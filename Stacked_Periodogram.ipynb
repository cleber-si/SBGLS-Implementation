{
 "cells": [
  {
   "cell_type": "markdown",
   "id": "454e6c22",
   "metadata": {},
   "source": [
    "Created on 2025, Oct 14.\n",
    "\n",
    "Description: Implementation of Stacked Periodograms, along with compilation of Lomb-Scargle algorithms.\n",
    "\n",
    "**@authors:**\n",
    "\n",
    " - Cleber Silva < _clebersilva@fisica.ufc.br_ > [1, 3]\n",
    "\n",
    " - Eder Martioli < _emartioli@lna.br_ > [2, 3]\n",
    "\n",
    "[1] Stellar Team - Universidade Federal do Ceará, Brazil.\n",
    "\n",
    "[2] Laboratório Nacional de Astrofísica, Brasil.\n",
    "\n",
    "[3] MALTED research group, Brazil."
   ]
  },
  {
   "cell_type": "markdown",
   "id": "8b3995c6",
   "metadata": {},
   "source": [
    "**References:**\n",
    "\n",
    "A. Mortier, A. Collier Cameron. A&A 601 A110 (2017) - DOI: https://doi.org/10.1051/0004-6361/201630201\n",
    "\n",
    "A. Mortier, et al. A&A, 573 (2015) A101 - DOI: https://doi.org/10.1051/0004-6361/201424908\n",
    "\n",
    "Jacob T. VanderPlas 2018 ApJS 236 16 - DOI: https://doi.org/10.3847/1538-4365/aab766"
   ]
  },
  {
   "cell_type": "code",
   "execution_count": null,
   "id": "59a05465",
   "metadata": {},
   "outputs": [],
   "source": [
    "from astropy.io import ascii\n",
    "import LS_like_periodograms as aux"
   ]
  },
  {
   "cell_type": "code",
   "execution_count": null,
   "id": "6a42cdcf",
   "metadata": {},
   "outputs": [],
   "source": [
    "file = 'TimeSeries.csv'\n",
    "table = ascii.read(file)\n",
    "\n",
    "time = table['Time [eMJD]'].value\n",
    "RV = table['RV [m/s]'].value\n",
    "RV_error = table['RV Err. [m/s]'].value"
   ]
  },
  {
   "cell_type": "code",
   "execution_count": null,
   "id": "476c04e1",
   "metadata": {},
   "outputs": [],
   "source": [
    "aux.plot_curve_and_periodogram(time, RV, RV_error, 50, periodogram_type='GLS')"
   ]
  },
  {
   "cell_type": "code",
   "execution_count": null,
   "id": "c33731f4",
   "metadata": {},
   "outputs": [],
   "source": [
    "aux.plot_curve_and_periodogram(time, RV, RV_error, 50, periodogram_type='BGLS')"
   ]
  },
  {
   "cell_type": "code",
   "execution_count": null,
   "id": "1f9d5f35",
   "metadata": {},
   "outputs": [],
   "source": [
    "data = aux.stacked_periodogram(time, RV, RV_error, N_min=50,\n",
    "                               periodogram_type='GLS', p_min=1,\n",
    "                               p_max=5, num_periods = 5000)"
   ]
  },
  {
   "cell_type": "code",
   "execution_count": null,
   "id": "76ea70bd",
   "metadata": {},
   "outputs": [],
   "source": [
    "aux.plot_stacked_periodogram_heatmap(data, norm='linear')"
   ]
  },
  {
   "cell_type": "code",
   "execution_count": null,
   "id": "86f8c895",
   "metadata": {},
   "outputs": [],
   "source": [
    "aux.plot_stacked_periodogram_heatmap(data, norm='log')"
   ]
  },
  {
   "cell_type": "code",
   "execution_count": null,
   "id": "982bb916",
   "metadata": {},
   "outputs": [],
   "source": [
    "data2 = aux.stacked_periodogram(time, RV, RV_error, N_min=50,\n",
    "                                periodogram_type='BGLS', p_min=1,\n",
    "                                p_max=5, num_periods = 5000)"
   ]
  },
  {
   "cell_type": "code",
   "execution_count": null,
   "id": "0fd3c738",
   "metadata": {},
   "outputs": [],
   "source": [
    "aux.plot_stacked_periodogram_heatmap(data2, norm='linear')"
   ]
  },
  {
   "cell_type": "code",
   "execution_count": null,
   "id": "905115eb",
   "metadata": {},
   "outputs": [],
   "source": [
    "aux.plot_stacked_periodogram_heatmap(data2, norm='log')"
   ]
  }
 ],
 "metadata": {
  "kernelspec": {
   "display_name": "myvenv (3.12.3)",
   "language": "python",
   "name": "python3"
  },
  "language_info": {
   "codemirror_mode": {
    "name": "ipython",
    "version": 3
   },
   "file_extension": ".py",
   "mimetype": "text/x-python",
   "name": "python",
   "nbconvert_exporter": "python",
   "pygments_lexer": "ipython3",
   "version": "3.12.3"
  }
 },
 "nbformat": 4,
 "nbformat_minor": 5
}
